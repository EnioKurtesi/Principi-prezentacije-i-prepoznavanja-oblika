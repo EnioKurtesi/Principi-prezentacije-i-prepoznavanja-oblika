{
  "nbformat": 4,
  "nbformat_minor": 0,
  "metadata": {
    "colab": {
      "provenance": []
    },
    "kernelspec": {
      "name": "python3",
      "display_name": "Python 3"
    },
    "language_info": {
      "name": "python"
    }
  },
  "cells": [
    {
      "cell_type": "markdown",
      "source": [
        "\n",
        "# **UVOD**\n",
        "\n",
        "Klasifikacija je ključni algoritam u oblasti mašinskog učenja koji se koristi za grupisanje podataka u određene kategorije na osnovu zadatih ulaznih informacija. Ovaj algoritam nalazi široku primenu u raznim domenima, od medicinske dijagnostike i analize sentimenta, do prepoznavanja objekata u slikama i filtriranja spam e-pošte. Glavni cilj klasifikacije je naučiti model kako da prepozna obrasce i veze između ulaznih podataka i pripadajućih klasa, kako bi mogao klasifikovati nove, do sada neviđene podatke. Ovaj proces se obično sastoji od nekoliko faza.\n",
        "\n",
        "Prva faza je priprema podataka, gde se ulazni skup podataka deli na dve glavne grupe: trening podaci i test podaci. Trening podaci se koriste za obuku modela, dok se test podaci koriste za evaluaciju performansi modela nakon obuke. Važno je obezbediti da oba skupa podataka budu reprezentativna i adekvatna za problem koji se rešava.\n",
        "\n",
        "Nakon pripreme podataka, sledeća faza je izbor odgovarajućeg algoritma za klasifikaciju. Postoji veliki broj algoritama za klasifikaciju, kao što su Naive Bayes, K-najbližih suseda, Logistička regresija, Stablo odlučivanja, Random Forests, Support Vector Machines (SVM) i neuronske mreže. Izbor algoritma zavisi od prirode problema, veličine i karakteristika podataka, kao i performansi koje se očekuju. Izborom algoritma, počinje sledeća faza koja podrazumeva trening modela. U ovoj fazi, algoritam koristi trening podatke kako bi naučio veze između ulaznih podataka i pripadajućih klasa. To se postiže prilagođavanjem parametara modela kako bi minimizirao grešku u predviđanju klasa na trening podacima. Veličina trening skupa i broj iteracija treninga mogu uticati na kvalitet naučenog modela.\n",
        "\n",
        "Nakon završetka treninga, model se testira u fazi evaluacije. Test podaci se koriste kako bi se procenila tačnost, preciznost, odziv i ostale metrike performansi modela. Ove metrike pružaju informacije o tome koliko dobro model generalizuje naučeno znanje na nove podatke.\n",
        "\n",
        "Klasifikacija ima mnoge benefite i primene. Na primer, u medicinskoj dijagnostici, klasifikacija se koristi za identifikaciju bolesti na osnovu simptoma i medicinskih nalaza. Takođe se koristi za prepoznavanje prevare u finansijskim transakcijama, za personalizaciju preporuka proizvoda na e-trgovinskim platformama, za prepoznavanje emocija u tekstu ili govoru, kao i za automatsko filtriranje neželjene pošte.\n",
        "\n",
        "\n"
      ],
      "metadata": {
        "id": "eyTsD2DrB7ha"
      }
    },
    {
      "cell_type": "markdown",
      "source": [
        "# **SET PODATAKA**\n",
        "\n",
        "Glavni cilj ovog zadatka je precizno identifikovati 99 vrsta biljaka koristeći binarne slike listova i njihove karakteristike, kao što su oblik, margine i tekstura."
      ],
      "metadata": {
        "id": "BjvK8h0jEKoE"
      }
    },
    {
      "cell_type": "markdown",
      "source": [
        "# **IMPLEMENTACIJA REŠENJA**\n",
        "\n",
        "Na početku projekta, importovali smo biblioteke NumPy i Pandas kako bismo koristili njihove funkcionalnosti u našem  kodu.\n",
        "\n",
        "**Biblioteka NumPy** je korisna za rad sa numeričkim podacima, posebno za efikasno rukovanje višedimenzionalnim nizovima i matricama. Ona nam pruža brojne funkcije za izvođenje matematičkih operacija, kao što su dodavanje, oduzimanje, množenje i deljenje, kao i funkcije za linearnu algebru, statistiku i generisanje slučajnih brojeva. NumPy omogućava brzu i efikasnu obradu podataka, što je ključno u oblastima kao što su naučno računanje, analiza podataka i mašinsko učenje.\n",
        "\n",
        "**Pandas** biblioteka je namenjena manipulaciji podacima u tabelarnom formatu. Ona pruža moćne strukture podataka, poput DataFrame-a, koji nam omogućavaju organizaciju, filtriranje, sortiranje i transformaciju podataka. Pandas takođe nudi alate za čitanje podataka iz različitih izvora, kao što su CSV ili Excel fajlovi, kao i mogućnost pisanja podataka u željenom formatu. Ova biblioteka je veoma korisna u analizi podataka, istraživanju, finansijama i mašinskom učenju, jer olakšava manipulaciju i obradu velikih skupova podataka.\n",
        "\n"
      ],
      "metadata": {
        "id": "gDUCIeatE3Vf"
      }
    },
    {
      "cell_type": "code",
      "execution_count": 1,
      "metadata": {
        "id": "xUh9aWzNgIPN"
      },
      "outputs": [],
      "source": [
        "import numpy as np\n",
        "import pandas as pd"
      ]
    },
    {
      "cell_type": "markdown",
      "source": [
        "\n",
        "U daljem radu, vršimo importovanje neophodnih biblioteka koje će nam biti od koristi za vizualizaciju podataka, kao i za samu implementaciju algoritama mašinskog učenja.\n",
        "\n",
        "**Seaborn**: Biblioteka za vizualizaciju podataka. Pruža funkcionalnosti za izradu atraktivnih i informativnih grafika.\n",
        "\n",
        "**Matplotlib**: Biblioteka za crtanje grafika. Omogućava izradu različitih vrsta grafika za prikazivanje podataka.\n",
        "\n",
        "**Scikit-learn** (*sklearn*): Biblioteka za mašinsko učenje. Pruža algoritme za preprocesiranje podataka, različite modele mašinskog učenja, metode evaluacije modela i alate za podelu podataka na trening i test skupove.\n",
        "\n",
        "**LabelEncoder** je klasa koja se koristi za enkodiranje kategoričkih podataka u numerički oblik. U kontekstu mašinskog učenja, mnogi algoritmi zahtevaju numeričke vrednosti za ulazne podatke, pa je potrebno pretvoriti kategoričke varijable u odgovarajuće brojčane vrednosti. LabelEncoder mapira svaku jedinstvenu vrednost u kategoričkoj varijabli u jedinstvenu celobrojnu vrednost.\n",
        "\n",
        "**StandardScaler** je klasa koja se koristi za standardizaciju numeričkih podataka. Standardizacija podrazumeva skaliranje podataka tako da imaju srednju vrednost 0 i standardnu devijaciju 1. Ovo je korisno kada algoritmi zahtevaju da su podaci na istoj skali ili kada želimo da smanjimo uticaj veličina različitih varijabli na rezultate modela. StandardScaler obrađuje svaku varijablu tako da je njen raspored podataka ima srednju vrednost blizu 0 i standardnu devijaciju blizu 1."
      ],
      "metadata": {
        "id": "xJWrmVZsGu9v"
      }
    },
    {
      "cell_type": "code",
      "source": [
        "# Importovanje paketa\n",
        "import numpy as np\n",
        "import pandas as pd\n",
        "import seaborn as sns; sns.set()\n",
        "import matplotlib.pyplot as plt\n",
        "\n",
        "from sklearn.preprocessing import LabelEncoder, StandardScaler\n",
        "from sklearn.model_selection import StratifiedShuffleSplit, cross_val_score, GridSearchCV\n",
        "\n",
        "from sklearn.metrics import accuracy_score, log_loss\n",
        "\n",
        "from sklearn.naive_bayes import GaussianNB\n",
        "from sklearn.svm import SVC\n",
        "from sklearn.linear_model import LogisticRegression\n",
        "from sklearn.neighbors import KNeighborsClassifier\n",
        "from sklearn.discriminant_analysis import LinearDiscriminantAnalysis\n",
        "\n",
        "import cv2\n",
        "\n",
        "%matplotlib inline"
      ],
      "metadata": {
        "id": "MZ9O6xFUiElC"
      },
      "execution_count": 2,
      "outputs": []
    },
    {
      "cell_type": "markdown",
      "source": [
        "U ovom delu koda koristili smo google.colab biblioteku koja pruža funkcionalnosti za interakciju sa Google Colab okruženjem.\n",
        "\n",
        "Prvo smo importovali modul files iz google.colab biblioteke. Ovaj modul omogućava rad sa datotekama u Google Colab okruženju, uključujući njihovo uplodovanje i preuzimanje.\n",
        "\n",
        "Zatim smo izvršili funkciju files.upload(), koja prikazuje korisniku interaktivno dugme \"Choose Files\". Kada korisnik klikne na to dugme, otvara se dijalog za odabir datoteka sa lokalnog računara. Korisnik može izabrati jednu ili više datoteka za upload. Nakon što korisnik izabere datoteke i klikne na \"Upload\", datoteke se prenose u Google Colab sesiju i smeštaju u promenljivu uploaded.\n",
        "\n",
        "Ova funkcionalnost je korisna kada radimo sa lokalnim podacima ili datotekama i želimo da ih prenesemo u Google Colab okruženje radi dalje obrade, analize ili mašinskog učenja. Time nam se omogućava da radimo sa različitim skupovima podataka i prilagođavamo analize i modele našim potrebama."
      ],
      "metadata": {
        "id": "TZlSXfjFIeIg"
      }
    },
    {
      "cell_type": "code",
      "source": [
        "from google.colab import files\n",
        "uploaded = files.upload()"
      ],
      "metadata": {
        "colab": {
          "base_uri": "https://localhost:8080/",
          "height": 73
        },
        "id": "FnK7FUQQj5Ds",
        "outputId": "7c822118-30a7-4fe7-a9c6-6e30ab0b3055"
      },
      "execution_count": 3,
      "outputs": [
        {
          "output_type": "display_data",
          "data": {
            "text/plain": [
              "<IPython.core.display.HTML object>"
            ],
            "text/html": [
              "\n",
              "     <input type=\"file\" id=\"files-83e19136-a235-4837-9c04-b7161ca136a3\" name=\"files[]\" multiple disabled\n",
              "        style=\"border:none\" />\n",
              "     <output id=\"result-83e19136-a235-4837-9c04-b7161ca136a3\">\n",
              "      Upload widget is only available when the cell has been executed in the\n",
              "      current browser session. Please rerun this cell to enable.\n",
              "      </output>\n",
              "      <script>// Copyright 2017 Google LLC\n",
              "//\n",
              "// Licensed under the Apache License, Version 2.0 (the \"License\");\n",
              "// you may not use this file except in compliance with the License.\n",
              "// You may obtain a copy of the License at\n",
              "//\n",
              "//      http://www.apache.org/licenses/LICENSE-2.0\n",
              "//\n",
              "// Unless required by applicable law or agreed to in writing, software\n",
              "// distributed under the License is distributed on an \"AS IS\" BASIS,\n",
              "// WITHOUT WARRANTIES OR CONDITIONS OF ANY KIND, either express or implied.\n",
              "// See the License for the specific language governing permissions and\n",
              "// limitations under the License.\n",
              "\n",
              "/**\n",
              " * @fileoverview Helpers for google.colab Python module.\n",
              " */\n",
              "(function(scope) {\n",
              "function span(text, styleAttributes = {}) {\n",
              "  const element = document.createElement('span');\n",
              "  element.textContent = text;\n",
              "  for (const key of Object.keys(styleAttributes)) {\n",
              "    element.style[key] = styleAttributes[key];\n",
              "  }\n",
              "  return element;\n",
              "}\n",
              "\n",
              "// Max number of bytes which will be uploaded at a time.\n",
              "const MAX_PAYLOAD_SIZE = 100 * 1024;\n",
              "\n",
              "function _uploadFiles(inputId, outputId) {\n",
              "  const steps = uploadFilesStep(inputId, outputId);\n",
              "  const outputElement = document.getElementById(outputId);\n",
              "  // Cache steps on the outputElement to make it available for the next call\n",
              "  // to uploadFilesContinue from Python.\n",
              "  outputElement.steps = steps;\n",
              "\n",
              "  return _uploadFilesContinue(outputId);\n",
              "}\n",
              "\n",
              "// This is roughly an async generator (not supported in the browser yet),\n",
              "// where there are multiple asynchronous steps and the Python side is going\n",
              "// to poll for completion of each step.\n",
              "// This uses a Promise to block the python side on completion of each step,\n",
              "// then passes the result of the previous step as the input to the next step.\n",
              "function _uploadFilesContinue(outputId) {\n",
              "  const outputElement = document.getElementById(outputId);\n",
              "  const steps = outputElement.steps;\n",
              "\n",
              "  const next = steps.next(outputElement.lastPromiseValue);\n",
              "  return Promise.resolve(next.value.promise).then((value) => {\n",
              "    // Cache the last promise value to make it available to the next\n",
              "    // step of the generator.\n",
              "    outputElement.lastPromiseValue = value;\n",
              "    return next.value.response;\n",
              "  });\n",
              "}\n",
              "\n",
              "/**\n",
              " * Generator function which is called between each async step of the upload\n",
              " * process.\n",
              " * @param {string} inputId Element ID of the input file picker element.\n",
              " * @param {string} outputId Element ID of the output display.\n",
              " * @return {!Iterable<!Object>} Iterable of next steps.\n",
              " */\n",
              "function* uploadFilesStep(inputId, outputId) {\n",
              "  const inputElement = document.getElementById(inputId);\n",
              "  inputElement.disabled = false;\n",
              "\n",
              "  const outputElement = document.getElementById(outputId);\n",
              "  outputElement.innerHTML = '';\n",
              "\n",
              "  const pickedPromise = new Promise((resolve) => {\n",
              "    inputElement.addEventListener('change', (e) => {\n",
              "      resolve(e.target.files);\n",
              "    });\n",
              "  });\n",
              "\n",
              "  const cancel = document.createElement('button');\n",
              "  inputElement.parentElement.appendChild(cancel);\n",
              "  cancel.textContent = 'Cancel upload';\n",
              "  const cancelPromise = new Promise((resolve) => {\n",
              "    cancel.onclick = () => {\n",
              "      resolve(null);\n",
              "    };\n",
              "  });\n",
              "\n",
              "  // Wait for the user to pick the files.\n",
              "  const files = yield {\n",
              "    promise: Promise.race([pickedPromise, cancelPromise]),\n",
              "    response: {\n",
              "      action: 'starting',\n",
              "    }\n",
              "  };\n",
              "\n",
              "  cancel.remove();\n",
              "\n",
              "  // Disable the input element since further picks are not allowed.\n",
              "  inputElement.disabled = true;\n",
              "\n",
              "  if (!files) {\n",
              "    return {\n",
              "      response: {\n",
              "        action: 'complete',\n",
              "      }\n",
              "    };\n",
              "  }\n",
              "\n",
              "  for (const file of files) {\n",
              "    const li = document.createElement('li');\n",
              "    li.append(span(file.name, {fontWeight: 'bold'}));\n",
              "    li.append(span(\n",
              "        `(${file.type || 'n/a'}) - ${file.size} bytes, ` +\n",
              "        `last modified: ${\n",
              "            file.lastModifiedDate ? file.lastModifiedDate.toLocaleDateString() :\n",
              "                                    'n/a'} - `));\n",
              "    const percent = span('0% done');\n",
              "    li.appendChild(percent);\n",
              "\n",
              "    outputElement.appendChild(li);\n",
              "\n",
              "    const fileDataPromise = new Promise((resolve) => {\n",
              "      const reader = new FileReader();\n",
              "      reader.onload = (e) => {\n",
              "        resolve(e.target.result);\n",
              "      };\n",
              "      reader.readAsArrayBuffer(file);\n",
              "    });\n",
              "    // Wait for the data to be ready.\n",
              "    let fileData = yield {\n",
              "      promise: fileDataPromise,\n",
              "      response: {\n",
              "        action: 'continue',\n",
              "      }\n",
              "    };\n",
              "\n",
              "    // Use a chunked sending to avoid message size limits. See b/62115660.\n",
              "    let position = 0;\n",
              "    do {\n",
              "      const length = Math.min(fileData.byteLength - position, MAX_PAYLOAD_SIZE);\n",
              "      const chunk = new Uint8Array(fileData, position, length);\n",
              "      position += length;\n",
              "\n",
              "      const base64 = btoa(String.fromCharCode.apply(null, chunk));\n",
              "      yield {\n",
              "        response: {\n",
              "          action: 'append',\n",
              "          file: file.name,\n",
              "          data: base64,\n",
              "        },\n",
              "      };\n",
              "\n",
              "      let percentDone = fileData.byteLength === 0 ?\n",
              "          100 :\n",
              "          Math.round((position / fileData.byteLength) * 100);\n",
              "      percent.textContent = `${percentDone}% done`;\n",
              "\n",
              "    } while (position < fileData.byteLength);\n",
              "  }\n",
              "\n",
              "  // All done.\n",
              "  yield {\n",
              "    response: {\n",
              "      action: 'complete',\n",
              "    }\n",
              "  };\n",
              "}\n",
              "\n",
              "scope.google = scope.google || {};\n",
              "scope.google.colab = scope.google.colab || {};\n",
              "scope.google.colab._files = {\n",
              "  _uploadFiles,\n",
              "  _uploadFilesContinue,\n",
              "};\n",
              "})(self);\n",
              "</script> "
            ]
          },
          "metadata": {}
        },
        {
          "output_type": "stream",
          "name": "stdout",
          "text": [
            "Saving train.csv to train.csv\n"
          ]
        }
      ]
    },
    {
      "cell_type": "code",
      "source": [
        "from google.colab import files\n",
        "uploaded = files.upload()"
      ],
      "metadata": {
        "colab": {
          "base_uri": "https://localhost:8080/",
          "height": 73
        },
        "id": "wqeGGGKVlx-u",
        "outputId": "79ec998f-0bcb-4d22-b773-a1ca733c71a4"
      },
      "execution_count": 4,
      "outputs": [
        {
          "output_type": "display_data",
          "data": {
            "text/plain": [
              "<IPython.core.display.HTML object>"
            ],
            "text/html": [
              "\n",
              "     <input type=\"file\" id=\"files-7a8d3d6f-7ceb-49f9-8cae-331ee2d1c17f\" name=\"files[]\" multiple disabled\n",
              "        style=\"border:none\" />\n",
              "     <output id=\"result-7a8d3d6f-7ceb-49f9-8cae-331ee2d1c17f\">\n",
              "      Upload widget is only available when the cell has been executed in the\n",
              "      current browser session. Please rerun this cell to enable.\n",
              "      </output>\n",
              "      <script>// Copyright 2017 Google LLC\n",
              "//\n",
              "// Licensed under the Apache License, Version 2.0 (the \"License\");\n",
              "// you may not use this file except in compliance with the License.\n",
              "// You may obtain a copy of the License at\n",
              "//\n",
              "//      http://www.apache.org/licenses/LICENSE-2.0\n",
              "//\n",
              "// Unless required by applicable law or agreed to in writing, software\n",
              "// distributed under the License is distributed on an \"AS IS\" BASIS,\n",
              "// WITHOUT WARRANTIES OR CONDITIONS OF ANY KIND, either express or implied.\n",
              "// See the License for the specific language governing permissions and\n",
              "// limitations under the License.\n",
              "\n",
              "/**\n",
              " * @fileoverview Helpers for google.colab Python module.\n",
              " */\n",
              "(function(scope) {\n",
              "function span(text, styleAttributes = {}) {\n",
              "  const element = document.createElement('span');\n",
              "  element.textContent = text;\n",
              "  for (const key of Object.keys(styleAttributes)) {\n",
              "    element.style[key] = styleAttributes[key];\n",
              "  }\n",
              "  return element;\n",
              "}\n",
              "\n",
              "// Max number of bytes which will be uploaded at a time.\n",
              "const MAX_PAYLOAD_SIZE = 100 * 1024;\n",
              "\n",
              "function _uploadFiles(inputId, outputId) {\n",
              "  const steps = uploadFilesStep(inputId, outputId);\n",
              "  const outputElement = document.getElementById(outputId);\n",
              "  // Cache steps on the outputElement to make it available for the next call\n",
              "  // to uploadFilesContinue from Python.\n",
              "  outputElement.steps = steps;\n",
              "\n",
              "  return _uploadFilesContinue(outputId);\n",
              "}\n",
              "\n",
              "// This is roughly an async generator (not supported in the browser yet),\n",
              "// where there are multiple asynchronous steps and the Python side is going\n",
              "// to poll for completion of each step.\n",
              "// This uses a Promise to block the python side on completion of each step,\n",
              "// then passes the result of the previous step as the input to the next step.\n",
              "function _uploadFilesContinue(outputId) {\n",
              "  const outputElement = document.getElementById(outputId);\n",
              "  const steps = outputElement.steps;\n",
              "\n",
              "  const next = steps.next(outputElement.lastPromiseValue);\n",
              "  return Promise.resolve(next.value.promise).then((value) => {\n",
              "    // Cache the last promise value to make it available to the next\n",
              "    // step of the generator.\n",
              "    outputElement.lastPromiseValue = value;\n",
              "    return next.value.response;\n",
              "  });\n",
              "}\n",
              "\n",
              "/**\n",
              " * Generator function which is called between each async step of the upload\n",
              " * process.\n",
              " * @param {string} inputId Element ID of the input file picker element.\n",
              " * @param {string} outputId Element ID of the output display.\n",
              " * @return {!Iterable<!Object>} Iterable of next steps.\n",
              " */\n",
              "function* uploadFilesStep(inputId, outputId) {\n",
              "  const inputElement = document.getElementById(inputId);\n",
              "  inputElement.disabled = false;\n",
              "\n",
              "  const outputElement = document.getElementById(outputId);\n",
              "  outputElement.innerHTML = '';\n",
              "\n",
              "  const pickedPromise = new Promise((resolve) => {\n",
              "    inputElement.addEventListener('change', (e) => {\n",
              "      resolve(e.target.files);\n",
              "    });\n",
              "  });\n",
              "\n",
              "  const cancel = document.createElement('button');\n",
              "  inputElement.parentElement.appendChild(cancel);\n",
              "  cancel.textContent = 'Cancel upload';\n",
              "  const cancelPromise = new Promise((resolve) => {\n",
              "    cancel.onclick = () => {\n",
              "      resolve(null);\n",
              "    };\n",
              "  });\n",
              "\n",
              "  // Wait for the user to pick the files.\n",
              "  const files = yield {\n",
              "    promise: Promise.race([pickedPromise, cancelPromise]),\n",
              "    response: {\n",
              "      action: 'starting',\n",
              "    }\n",
              "  };\n",
              "\n",
              "  cancel.remove();\n",
              "\n",
              "  // Disable the input element since further picks are not allowed.\n",
              "  inputElement.disabled = true;\n",
              "\n",
              "  if (!files) {\n",
              "    return {\n",
              "      response: {\n",
              "        action: 'complete',\n",
              "      }\n",
              "    };\n",
              "  }\n",
              "\n",
              "  for (const file of files) {\n",
              "    const li = document.createElement('li');\n",
              "    li.append(span(file.name, {fontWeight: 'bold'}));\n",
              "    li.append(span(\n",
              "        `(${file.type || 'n/a'}) - ${file.size} bytes, ` +\n",
              "        `last modified: ${\n",
              "            file.lastModifiedDate ? file.lastModifiedDate.toLocaleDateString() :\n",
              "                                    'n/a'} - `));\n",
              "    const percent = span('0% done');\n",
              "    li.appendChild(percent);\n",
              "\n",
              "    outputElement.appendChild(li);\n",
              "\n",
              "    const fileDataPromise = new Promise((resolve) => {\n",
              "      const reader = new FileReader();\n",
              "      reader.onload = (e) => {\n",
              "        resolve(e.target.result);\n",
              "      };\n",
              "      reader.readAsArrayBuffer(file);\n",
              "    });\n",
              "    // Wait for the data to be ready.\n",
              "    let fileData = yield {\n",
              "      promise: fileDataPromise,\n",
              "      response: {\n",
              "        action: 'continue',\n",
              "      }\n",
              "    };\n",
              "\n",
              "    // Use a chunked sending to avoid message size limits. See b/62115660.\n",
              "    let position = 0;\n",
              "    do {\n",
              "      const length = Math.min(fileData.byteLength - position, MAX_PAYLOAD_SIZE);\n",
              "      const chunk = new Uint8Array(fileData, position, length);\n",
              "      position += length;\n",
              "\n",
              "      const base64 = btoa(String.fromCharCode.apply(null, chunk));\n",
              "      yield {\n",
              "        response: {\n",
              "          action: 'append',\n",
              "          file: file.name,\n",
              "          data: base64,\n",
              "        },\n",
              "      };\n",
              "\n",
              "      let percentDone = fileData.byteLength === 0 ?\n",
              "          100 :\n",
              "          Math.round((position / fileData.byteLength) * 100);\n",
              "      percent.textContent = `${percentDone}% done`;\n",
              "\n",
              "    } while (position < fileData.byteLength);\n",
              "  }\n",
              "\n",
              "  // All done.\n",
              "  yield {\n",
              "    response: {\n",
              "      action: 'complete',\n",
              "    }\n",
              "  };\n",
              "}\n",
              "\n",
              "scope.google = scope.google || {};\n",
              "scope.google.colab = scope.google.colab || {};\n",
              "scope.google.colab._files = {\n",
              "  _uploadFiles,\n",
              "  _uploadFilesContinue,\n",
              "};\n",
              "})(self);\n",
              "</script> "
            ]
          },
          "metadata": {}
        },
        {
          "output_type": "stream",
          "name": "stdout",
          "text": [
            "Saving test.csv to test.csv\n"
          ]
        }
      ]
    },
    {
      "cell_type": "markdown",
      "source": [
        "U narednom delu koda, uvezli smo biblioteku pandas pod imenom pd, koja nam omogućava rad sa tabularnim podacima.\n",
        "\n",
        "Nakon toga smo definisali putanje do datoteka train.csv i test.csv, koje smo prethodno učitali u Google Colab okruženje pomoću funkcionalnosti za upload datoteka.\n",
        "\n",
        "Zatim smo koristili funkciju pd.read_csv() iz pandas biblioteke da učitamo sadržaj CSV datoteka i pretvorimo ih u DataFrame objekte. Učitane podatke smo smestili u promenljive train_raw i test_raw.\n",
        "\n",
        "Ovo nam omogućava da dalje radimo sa podacima iz train.csv i test.csv datoteka koristeći DataFrame strukturu, koja pruža mnoge funkcionalnosti za manipulaciju, analizu i obradu tabularnih podataka."
      ],
      "metadata": {
        "id": "e1dMmiqBPYg4"
      }
    },
    {
      "cell_type": "code",
      "source": [
        "import pandas as pd\n",
        "\n",
        "# Kreiranje putanje za upload-ovane fajlove\n",
        "train_file_path = 'train.csv'\n",
        "\n",
        "test_file_path = 'test.csv'\n",
        "\n",
        "# Ucitavanje csv fajla\n",
        "#df = pd.read_csv(file_path)\n",
        "\n",
        "# Kreiranje pandas dataframe-a\n",
        "train_raw = pd.read_csv(train_file_path)\n",
        "test_raw = pd.read_csv(test_file_path)\n",
        "\n",
        "#print type(train_raw), type(test_raw)\n",
        "print ('Imamo {}'.format(train_raw.shape[0]), \\\n",
        "       'uzoraka za kreiranje modela mašinskog učenja i {}'.format(test_raw.shape[0]), \\\n",
        "       'uzoraka za evaluaciju učinka.')"
      ],
      "metadata": {
        "colab": {
          "base_uri": "https://localhost:8080/"
        },
        "id": "xwHrOmWZl95b",
        "outputId": "be30dd76-c0ae-4e5d-c7d1-203dea3f7988"
      },
      "execution_count": 5,
      "outputs": [
        {
          "output_type": "stream",
          "name": "stdout",
          "text": [
            "Imamo 990 uzoraka za kreiranje modela mašinskog učenja i 594 uzoraka za evaluaciju učinka.\n"
          ]
        }
      ]
    },
    {
      "cell_type": "code",
      "source": [
        "# Uz pomoc head funkcije, vidimo prvih 5 torki iz našeg dataset-a\n",
        "train_raw.head(5)"
      ],
      "metadata": {
        "colab": {
          "base_uri": "https://localhost:8080/",
          "height": 236
        },
        "id": "rKDAyv6RmUt8",
        "outputId": "771e2d25-7a99-4950-f013-fde9a3d11e0e"
      },
      "execution_count": 6,
      "outputs": [
        {
          "output_type": "execute_result",
          "data": {
            "text/plain": [
              "   id                species   margin1   margin2   margin3   margin4  \\\n",
              "0   1            Acer_Opalus  0.007812  0.023438  0.023438  0.003906   \n",
              "1   2  Pterocarya_Stenoptera  0.005859  0.000000  0.031250  0.015625   \n",
              "2   3   Quercus_Hartwissiana  0.005859  0.009766  0.019531  0.007812   \n",
              "3   5        Tilia_Tomentosa  0.000000  0.003906  0.023438  0.005859   \n",
              "4   6     Quercus_Variabilis  0.005859  0.003906  0.048828  0.009766   \n",
              "\n",
              "    margin5   margin6   margin7  margin8  ...  texture55  texture56  \\\n",
              "0  0.011719  0.009766  0.027344      0.0  ...   0.007812   0.000000   \n",
              "1  0.025391  0.001953  0.019531      0.0  ...   0.000977   0.000000   \n",
              "2  0.003906  0.005859  0.068359      0.0  ...   0.154300   0.000000   \n",
              "3  0.021484  0.019531  0.023438      0.0  ...   0.000000   0.000977   \n",
              "4  0.013672  0.015625  0.005859      0.0  ...   0.096680   0.000000   \n",
              "\n",
              "   texture57  texture58  texture59  texture60  texture61  texture62  \\\n",
              "0   0.002930   0.002930   0.035156        0.0        0.0   0.004883   \n",
              "1   0.000000   0.000977   0.023438        0.0        0.0   0.000977   \n",
              "2   0.005859   0.000977   0.007812        0.0        0.0   0.000000   \n",
              "3   0.000000   0.000000   0.020508        0.0        0.0   0.017578   \n",
              "4   0.021484   0.000000   0.000000        0.0        0.0   0.000000   \n",
              "\n",
              "   texture63  texture64  \n",
              "0   0.000000   0.025391  \n",
              "1   0.039062   0.022461  \n",
              "2   0.020508   0.002930  \n",
              "3   0.000000   0.047852  \n",
              "4   0.000000   0.031250  \n",
              "\n",
              "[5 rows x 194 columns]"
            ],
            "text/html": [
              "\n",
              "  <div id=\"df-602d504f-7899-4725-8a5f-7425624f89e7\">\n",
              "    <div class=\"colab-df-container\">\n",
              "      <div>\n",
              "<style scoped>\n",
              "    .dataframe tbody tr th:only-of-type {\n",
              "        vertical-align: middle;\n",
              "    }\n",
              "\n",
              "    .dataframe tbody tr th {\n",
              "        vertical-align: top;\n",
              "    }\n",
              "\n",
              "    .dataframe thead th {\n",
              "        text-align: right;\n",
              "    }\n",
              "</style>\n",
              "<table border=\"1\" class=\"dataframe\">\n",
              "  <thead>\n",
              "    <tr style=\"text-align: right;\">\n",
              "      <th></th>\n",
              "      <th>id</th>\n",
              "      <th>species</th>\n",
              "      <th>margin1</th>\n",
              "      <th>margin2</th>\n",
              "      <th>margin3</th>\n",
              "      <th>margin4</th>\n",
              "      <th>margin5</th>\n",
              "      <th>margin6</th>\n",
              "      <th>margin7</th>\n",
              "      <th>margin8</th>\n",
              "      <th>...</th>\n",
              "      <th>texture55</th>\n",
              "      <th>texture56</th>\n",
              "      <th>texture57</th>\n",
              "      <th>texture58</th>\n",
              "      <th>texture59</th>\n",
              "      <th>texture60</th>\n",
              "      <th>texture61</th>\n",
              "      <th>texture62</th>\n",
              "      <th>texture63</th>\n",
              "      <th>texture64</th>\n",
              "    </tr>\n",
              "  </thead>\n",
              "  <tbody>\n",
              "    <tr>\n",
              "      <th>0</th>\n",
              "      <td>1</td>\n",
              "      <td>Acer_Opalus</td>\n",
              "      <td>0.007812</td>\n",
              "      <td>0.023438</td>\n",
              "      <td>0.023438</td>\n",
              "      <td>0.003906</td>\n",
              "      <td>0.011719</td>\n",
              "      <td>0.009766</td>\n",
              "      <td>0.027344</td>\n",
              "      <td>0.0</td>\n",
              "      <td>...</td>\n",
              "      <td>0.007812</td>\n",
              "      <td>0.000000</td>\n",
              "      <td>0.002930</td>\n",
              "      <td>0.002930</td>\n",
              "      <td>0.035156</td>\n",
              "      <td>0.0</td>\n",
              "      <td>0.0</td>\n",
              "      <td>0.004883</td>\n",
              "      <td>0.000000</td>\n",
              "      <td>0.025391</td>\n",
              "    </tr>\n",
              "    <tr>\n",
              "      <th>1</th>\n",
              "      <td>2</td>\n",
              "      <td>Pterocarya_Stenoptera</td>\n",
              "      <td>0.005859</td>\n",
              "      <td>0.000000</td>\n",
              "      <td>0.031250</td>\n",
              "      <td>0.015625</td>\n",
              "      <td>0.025391</td>\n",
              "      <td>0.001953</td>\n",
              "      <td>0.019531</td>\n",
              "      <td>0.0</td>\n",
              "      <td>...</td>\n",
              "      <td>0.000977</td>\n",
              "      <td>0.000000</td>\n",
              "      <td>0.000000</td>\n",
              "      <td>0.000977</td>\n",
              "      <td>0.023438</td>\n",
              "      <td>0.0</td>\n",
              "      <td>0.0</td>\n",
              "      <td>0.000977</td>\n",
              "      <td>0.039062</td>\n",
              "      <td>0.022461</td>\n",
              "    </tr>\n",
              "    <tr>\n",
              "      <th>2</th>\n",
              "      <td>3</td>\n",
              "      <td>Quercus_Hartwissiana</td>\n",
              "      <td>0.005859</td>\n",
              "      <td>0.009766</td>\n",
              "      <td>0.019531</td>\n",
              "      <td>0.007812</td>\n",
              "      <td>0.003906</td>\n",
              "      <td>0.005859</td>\n",
              "      <td>0.068359</td>\n",
              "      <td>0.0</td>\n",
              "      <td>...</td>\n",
              "      <td>0.154300</td>\n",
              "      <td>0.000000</td>\n",
              "      <td>0.005859</td>\n",
              "      <td>0.000977</td>\n",
              "      <td>0.007812</td>\n",
              "      <td>0.0</td>\n",
              "      <td>0.0</td>\n",
              "      <td>0.000000</td>\n",
              "      <td>0.020508</td>\n",
              "      <td>0.002930</td>\n",
              "    </tr>\n",
              "    <tr>\n",
              "      <th>3</th>\n",
              "      <td>5</td>\n",
              "      <td>Tilia_Tomentosa</td>\n",
              "      <td>0.000000</td>\n",
              "      <td>0.003906</td>\n",
              "      <td>0.023438</td>\n",
              "      <td>0.005859</td>\n",
              "      <td>0.021484</td>\n",
              "      <td>0.019531</td>\n",
              "      <td>0.023438</td>\n",
              "      <td>0.0</td>\n",
              "      <td>...</td>\n",
              "      <td>0.000000</td>\n",
              "      <td>0.000977</td>\n",
              "      <td>0.000000</td>\n",
              "      <td>0.000000</td>\n",
              "      <td>0.020508</td>\n",
              "      <td>0.0</td>\n",
              "      <td>0.0</td>\n",
              "      <td>0.017578</td>\n",
              "      <td>0.000000</td>\n",
              "      <td>0.047852</td>\n",
              "    </tr>\n",
              "    <tr>\n",
              "      <th>4</th>\n",
              "      <td>6</td>\n",
              "      <td>Quercus_Variabilis</td>\n",
              "      <td>0.005859</td>\n",
              "      <td>0.003906</td>\n",
              "      <td>0.048828</td>\n",
              "      <td>0.009766</td>\n",
              "      <td>0.013672</td>\n",
              "      <td>0.015625</td>\n",
              "      <td>0.005859</td>\n",
              "      <td>0.0</td>\n",
              "      <td>...</td>\n",
              "      <td>0.096680</td>\n",
              "      <td>0.000000</td>\n",
              "      <td>0.021484</td>\n",
              "      <td>0.000000</td>\n",
              "      <td>0.000000</td>\n",
              "      <td>0.0</td>\n",
              "      <td>0.0</td>\n",
              "      <td>0.000000</td>\n",
              "      <td>0.000000</td>\n",
              "      <td>0.031250</td>\n",
              "    </tr>\n",
              "  </tbody>\n",
              "</table>\n",
              "<p>5 rows × 194 columns</p>\n",
              "</div>\n",
              "      <button class=\"colab-df-convert\" onclick=\"convertToInteractive('df-602d504f-7899-4725-8a5f-7425624f89e7')\"\n",
              "              title=\"Convert this dataframe to an interactive table.\"\n",
              "              style=\"display:none;\">\n",
              "        \n",
              "  <svg xmlns=\"http://www.w3.org/2000/svg\" height=\"24px\"viewBox=\"0 0 24 24\"\n",
              "       width=\"24px\">\n",
              "    <path d=\"M0 0h24v24H0V0z\" fill=\"none\"/>\n",
              "    <path d=\"M18.56 5.44l.94 2.06.94-2.06 2.06-.94-2.06-.94-.94-2.06-.94 2.06-2.06.94zm-11 1L8.5 8.5l.94-2.06 2.06-.94-2.06-.94L8.5 2.5l-.94 2.06-2.06.94zm10 10l.94 2.06.94-2.06 2.06-.94-2.06-.94-.94-2.06-.94 2.06-2.06.94z\"/><path d=\"M17.41 7.96l-1.37-1.37c-.4-.4-.92-.59-1.43-.59-.52 0-1.04.2-1.43.59L10.3 9.45l-7.72 7.72c-.78.78-.78 2.05 0 2.83L4 21.41c.39.39.9.59 1.41.59.51 0 1.02-.2 1.41-.59l7.78-7.78 2.81-2.81c.8-.78.8-2.07 0-2.86zM5.41 20L4 18.59l7.72-7.72 1.47 1.35L5.41 20z\"/>\n",
              "  </svg>\n",
              "      </button>\n",
              "      \n",
              "  <style>\n",
              "    .colab-df-container {\n",
              "      display:flex;\n",
              "      flex-wrap:wrap;\n",
              "      gap: 12px;\n",
              "    }\n",
              "\n",
              "    .colab-df-convert {\n",
              "      background-color: #E8F0FE;\n",
              "      border: none;\n",
              "      border-radius: 50%;\n",
              "      cursor: pointer;\n",
              "      display: none;\n",
              "      fill: #1967D2;\n",
              "      height: 32px;\n",
              "      padding: 0 0 0 0;\n",
              "      width: 32px;\n",
              "    }\n",
              "\n",
              "    .colab-df-convert:hover {\n",
              "      background-color: #E2EBFA;\n",
              "      box-shadow: 0px 1px 2px rgba(60, 64, 67, 0.3), 0px 1px 3px 1px rgba(60, 64, 67, 0.15);\n",
              "      fill: #174EA6;\n",
              "    }\n",
              "\n",
              "    [theme=dark] .colab-df-convert {\n",
              "      background-color: #3B4455;\n",
              "      fill: #D2E3FC;\n",
              "    }\n",
              "\n",
              "    [theme=dark] .colab-df-convert:hover {\n",
              "      background-color: #434B5C;\n",
              "      box-shadow: 0px 1px 3px 1px rgba(0, 0, 0, 0.15);\n",
              "      filter: drop-shadow(0px 1px 2px rgba(0, 0, 0, 0.3));\n",
              "      fill: #FFFFFF;\n",
              "    }\n",
              "  </style>\n",
              "\n",
              "      <script>\n",
              "        const buttonEl =\n",
              "          document.querySelector('#df-602d504f-7899-4725-8a5f-7425624f89e7 button.colab-df-convert');\n",
              "        buttonEl.style.display =\n",
              "          google.colab.kernel.accessAllowed ? 'block' : 'none';\n",
              "\n",
              "        async function convertToInteractive(key) {\n",
              "          const element = document.querySelector('#df-602d504f-7899-4725-8a5f-7425624f89e7');\n",
              "          const dataTable =\n",
              "            await google.colab.kernel.invokeFunction('convertToInteractive',\n",
              "                                                     [key], {});\n",
              "          if (!dataTable) return;\n",
              "\n",
              "          const docLinkHtml = 'Like what you see? Visit the ' +\n",
              "            '<a target=\"_blank\" href=https://colab.research.google.com/notebooks/data_table.ipynb>data table notebook</a>'\n",
              "            + ' to learn more about interactive tables.';\n",
              "          element.innerHTML = '';\n",
              "          dataTable['output_type'] = 'display_data';\n",
              "          await google.colab.output.renderOutput(dataTable, element);\n",
              "          const docLink = document.createElement('div');\n",
              "          docLink.innerHTML = docLinkHtml;\n",
              "          element.appendChild(docLink);\n",
              "        }\n",
              "      </script>\n",
              "    </div>\n",
              "  </div>\n",
              "  "
            ]
          },
          "metadata": {},
          "execution_count": 6
        }
      ]
    },
    {
      "cell_type": "markdown",
      "source": [
        "U ovom delu koda, prvo smo importovali modul random, koji nam pruža funkcionalnosti za generisanje slučajnih brojeva i odabir nasumičnih elemenata iz liste.\n",
        "\n",
        "Zatim smo koristili train_raw['species'].unique().tolist() da bismo dobili listu jedinstvenih vrsta biljaka koje se nalaze u koloni 'species' u train_raw DataFrame-u. To smo postigli kombinacijom unique() funkcije, koja vraća jedinstvene vrednosti iz kolone, i tolist() funkcije, koja konvertuje rezultat u listu.\n",
        "\n",
        "Nakon toga, koristili smo random.sample(unique_species, 20) da bismo izabrali nasumično 20 vrsta biljaka iz liste jedinstvenih vrsta. Ova funkcija nam omogućava da izaberemo nasumične elemente iz liste bez ponavljanja.\n",
        "\n",
        "Dalje smo filtrirali train_raw DataFrame tako da uključuje samo vrste biljaka koje su nasumično odabrane. To smo postigli korišćenjem train_raw['species'].isin(random_species) uslovnog filtera, koji proverava da li vrednost u koloni 'species' pripada listi nasumično odabranih vrsta.\n",
        "\n",
        "Nakon filtriranja podataka, koristili smo sns.set(style=\"whitegrid\") da bismo postavili stil grafa na \"whitegrid\", što daje belu mrežu u pozadini.\n",
        "\n",
        "Zatim smo kreirali grafikon broja uzoraka za odabrane nasumične vrste biljaka koristeći sns.countplot() funkciju. Prosledili smo filtered_df DataFrame kao podatke za grafikon, x='species' da bismo prikazali broj uzoraka po vrstama biljaka, i palette='Set3' da bismo postavili boje za različite vrste.\n",
        "\n",
        "Dodali smo naslov grafikona, oznake osa i prilagodili veličinu i stil fonta na odgovarajući način. Takođe smo rotirali oznake na x-osi radi bolje čitljivosti ako je potrebno."
      ],
      "metadata": {
        "id": "gCpU0NShQZpz"
      }
    },
    {
      "cell_type": "code",
      "source": [
        "import random\n",
        "\n",
        "unique_species = train_raw['species'].unique().tolist()\n",
        "\n",
        "# Selektujemo 20 random vrsta\n",
        "random_species = random.sample(unique_species, 20)\n",
        "\n",
        "# Filtriramo df da sadrži samo izabrane vrste\n",
        "filtered_df = train_raw[train_raw['species'].isin(random_species)]\n",
        "\n",
        "# Postavljamo stil uz pomoć ugrađene set funkcije u okviru seaborn-a\n",
        "sns.set(style=\"whitegrid\")\n",
        "\n",
        "\n",
        "plt.figure(figsize=(10, 6))  #\n",
        "sns.countplot(data=filtered_df, x='species', palette='Set3')\n",
        "\n",
        "\n",
        "plt.title('20 Random Species From The Dataset', fontsize=16)\n",
        "plt.xlabel('Species', fontsize=12)\n",
        "plt.ylabel('Count', fontsize=12)\n",
        "\n",
        "# Rotiramo za 45 stepeni zbog bolje čitkosti\n",
        "plt.xticks(rotation=45, ha='right', fontsize=10)\n",
        "\n",
        "# Povećavamo font size\n",
        "plt.yticks(fontsize=10)\n",
        "\n",
        "\n",
        "sns.despine()\n",
        "\n",
        "# Plotujemo\n",
        "plt.tight_layout()\n",
        "plt.show()"
      ],
      "metadata": {
        "colab": {
          "base_uri": "https://localhost:8080/",
          "height": 601
        },
        "id": "CbYzQO0snhUw",
        "outputId": "ec478baf-0632-410e-9c6d-171e45994a6a"
      },
      "execution_count": 7,
      "outputs": [
        {
          "output_type": "display_data",
          "data": {
            "text/plain": [
              "<Figure size 1000x600 with 1 Axes>"
            ],
            "image/png": "[encoded data removed]"
          },
          "metadata": {}
        }
      ]
    },
    {
      "cell_type": "markdown",
      "source": [
        "train_raw.isnull().sum() funkcija se koristi za pronalaženje sume null (nepostojećih) vrednosti u svakoj koloni DataFrame-a train_raw.\n",
        "\n",
        "Kada pozovemo train_raw.isnull(), dobijamo DataFrame iste dimenzije kao train_raw, gde su vrednosti True za sve ćelije koje su null, odnosno False za sve ostale ćelije.\n",
        "\n",
        "Nakon toga, pozivanjem .sum() nad ovim DataFrame-om, dobijamo sumu po kolonama, jer je podrazumevana osa sumiranja 0 (kolone) za DataFrame.\n",
        "\n",
        "Ova funkcija omogućava nam da brzo identifikujemo koliko null vrednosti ima u svakoj koloni DataFrame-a."
      ],
      "metadata": {
        "id": "5NifQoloQ_BG"
      }
    },
    {
      "cell_type": "code",
      "source": [
        "train_raw.isnull().sum()"
      ],
      "metadata": {
        "colab": {
          "base_uri": "https://localhost:8080/"
        },
        "id": "CFSiN3Ocoxpr",
        "outputId": "b59dc94e-8844-4d42-c0af-b196f310c4d4"
      },
      "execution_count": 8,
      "outputs": [
        {
          "output_type": "execute_result",
          "data": {
            "text/plain": [
              "id           0\n",
              "species      0\n",
              "margin1      0\n",
              "margin2      0\n",
              "margin3      0\n",
              "            ..\n",
              "texture60    0\n",
              "texture61    0\n",
              "texture62    0\n",
              "texture63    0\n",
              "texture64    0\n",
              "Length: 194, dtype: int64"
            ]
          },
          "metadata": {},
          "execution_count": 8
        }
      ]
    },
    {
      "cell_type": "markdown",
      "source": [
        "U ovom delu koda vršimo pripremu podataka kako bismo ih prilagodili za klasifikator.\n",
        "\n",
        "LabelEncoder je klasa iz biblioteke sklearn.preprocessing koja se koristi za enkodiranje kategoričkih etiketa (u ovom slučaju vrsta biljaka) u numeričke vrednosti. Prvo instanciramo objekat LabelEncoder i zatim ga \"fitujemo\" na kolonu species u train_raw DataFrame-u. Ovaj korak je neophodan kako bismo naučili enkoder da mapira svaku jedinstvenu vrstu listova na odgovarajuću numeričku vrednost.\n",
        "\n",
        "Nakon toga, koristimo naučeni LabelEncoder objekat da enkodiramo vrste biljaka u numeričke labele. To znači da svaka vrsta dobija dobija numeričku vrednost umesto originalnog naziva vrste.\n",
        "\n",
        "Koristimo metodu drop kako bismo izbacili kolone \"id\" i \"species\".\n",
        "id kolona se uklanja jer ne sadrži relevantne informacije za treniranje modela. Ona jednostavno označava identifikacioni broj svake slike lista.\n",
        "\n",
        "Sa druge strane, species kolona se uklanja jer je to ciljna promenljiva koju želimo da predvidimo, a nećemo je koristiti kao ulaznu karakteristiku.\n",
        "\n",
        "\n",
        "Ovim uklanjanjem nepotrebnih kolona iz podataka dobijamo DataFrame train koji sadrži samo numeričke karakteristike listova koje će se koristiti za treniranje klasifikatora."
      ],
      "metadata": {
        "id": "LPrTwsLKSMtA"
      }
    },
    {
      "cell_type": "code",
      "source": [
        "# Pretprocesiranje\n",
        "le = LabelEncoder().fit(train_raw.species) # Instanciranje LabelEncoder-a\n",
        "labels = le.transform(train_raw.species)\n",
        "classes = list(le.classes_)\n",
        "test_ids = test_raw.id\n",
        "\n",
        "train = train_raw.drop(['id', 'species'], axis=1)\n",
        "test = test_raw.drop(['id'], axis=1)"
      ],
      "metadata": {
        "id": "aivihld7mZbk"
      },
      "execution_count": 9,
      "outputs": []
    },
    {
      "cell_type": "code",
      "source": [
        "# Provera podataka\n",
        "print (\"Dimenzije train i labels su: \", train.shape, labels.shape)\n",
        "print (\"Ukupno ima {} vrsta.\".format(len(classes)))\n",
        "print (\"Dimenzije test i test_ids su : \", test.shape, test_ids.shape)"
      ],
      "metadata": {
        "colab": {
          "base_uri": "https://localhost:8080/"
        },
        "id": "mrAuLbpRmnJl",
        "outputId": "7ae22055-90d4-41be-9fe2-6fe943070349"
      },
      "execution_count": 10,
      "outputs": [
        {
          "output_type": "stream",
          "name": "stdout",
          "text": [
            "Dimenzije train i labels su:  (990, 192) (990,)\n",
            "Ukupno ima 99 vrsta.\n",
            "Dimenzije test i test_ids su :  (594, 192) (594,)\n"
          ]
        }
      ]
    },
    {
      "cell_type": "markdown",
      "source": [
        "StratifiedShuffleSplit je metoda za uzorkovanje koja se koristi za podelu podataka na trening i test skupove. Glavni cilj ove metode je održavanje ravnoteže između klasa u obe podele. To znači da će raspodela klasa u trening i test skupovima biti slična.\n",
        "\n",
        "n_splits=10: Ovde postavljamo broj ponavljanja (splitova) podela podataka. U ovom slučaju, podaci će biti podeljeni u 10 različitih trening-test skupova.\n",
        "\n",
        "test_size=0.2: Ovde postavljamo veličinu test skupa kao udeo ukupnog skupa podataka. U ovom slučaju, test skup će činiti 20% podataka.\n",
        "\n",
        "random_state=0: Ovde postavljamo seme slučajnog generatora. To osigurava da se podela podataka može reprodukovati, tj. da će se ista podela dobiti svaki put kada se kod izvrši.\n",
        "\n",
        "ss_split.get_n_splits(train, labels): Ovom metodom dobijamo ukupan broj splitova koji će se napraviti.\n",
        "\n",
        "Kao što se može videti u ćeliji ispod, korišćenjem for petlje prolazimo kroz svaki split i dobijamo indekse trening i test skupova.\n",
        "\n",
        "X_train, X_test = train.values[train_index], train.values[test_index] i y_train, y_test = labels[train_index], labels[test_index]: Ovde se vrši samostalno deljenje podataka na trening i test skupove. Varijable X_train i X_test sadrže karakteristike listova za trening i testiranje, dok y_train i y_test sadrže odgovarajuće enkodirane oznake vrsta biljaka.\n",
        "\n",
        "Ova podela podataka je važna kako bismo imali nezavisni skup podataka za evaluaciju performansi modela mašinskog učenja. Stratifikacija omogućava da se održi ravnoteža između klasa u obe podele, što je posebno korisno ako imamo nejednake raspodele klasa. Ovo osigurava pouzdanu procenu performansi modela na različitim klasama."
      ],
      "metadata": {
        "id": "rZzMXtgqReGr"
      }
    },
    {
      "cell_type": "code",
      "source": [
        "# konstrukcija iteratora\n",
        "ss_split = StratifiedShuffleSplit(n_splits=10, test_size=0.2, random_state=0)\n",
        "ss_split.get_n_splits(train, labels)\n",
        "\n",
        "for train_index, test_index in ss_split.split(train, labels):\n",
        "    X_train, X_test = train.values[train_index], train.values[test_index]\n",
        "    y_train, y_test = labels[train_index], labels[test_index]"
      ],
      "metadata": {
        "id": "CQP8UusgnBr7"
      },
      "execution_count": 11,
      "outputs": []
    },
    {
      "cell_type": "code",
      "source": [
        "print (y_train.shape, y_test.shape)"
      ],
      "metadata": {
        "colab": {
          "base_uri": "https://localhost:8080/"
        },
        "id": "WzvuKBHGnJu0",
        "outputId": "03a535e6-4b95-45f0-c589-6a9b2606a878"
      },
      "execution_count": 12,
      "outputs": [
        {
          "output_type": "stream",
          "name": "stdout",
          "text": [
            "(792,) (198,)\n"
          ]
        }
      ]
    },
    {
      "cell_type": "markdown",
      "source": [
        "Algoritam Naive Bayes potiče iz Bayesove teorije, koju je formulisao engleski matematičar Thomas Bayes u 18. veku. Bayesov teorem omogućava izračunavanje verovatnoća događaja na osnovu dostupnih dokaza. Algoritam Naive Bayes koristi Bayesov teorem za predviđanje pripadnosti klasi na osnovu karakteristika podataka.\n",
        "\n",
        "Naive Bayes pretpostavlja nezavisnost između karakteristika podataka, što znači da se pretpostavlja da je pojavljivanje jedne karakteristike nezavisno od pojavljivanja drugih karakteristika. Ova pretpostavka čini algoritam jednostavnim i brzim za izračunavanje.\n",
        "\n",
        "Naive Bayes koristi statističke verovatnoće kako bi odredio koja klasa najverovatnije odgovara određenim ulaznim karakteristikama. Osnovna formula za primenu Bayesovog teorema u Naive Bayes algoritmu izgleda ovako:\n",
        "\n",
        "P(c|x) = (P(x|c) * P(c)) / P(x)\n",
        "\n",
        "Gde:\n",
        "\n",
        "P(c|x) je verovatnoća da je klasa c tačna s obzirom na ulazne karakteristike x.\n",
        "\n",
        "P(x|c) je verovatnoća ulaznih karakteristika x ako je klasa c tačna.\n",
        "\n",
        "P(c) je verovatnoća klase c (prevalencija klase u podacima).\n",
        "\n",
        "P(x) je verovatnoća ulaznih karakteristika x.\n",
        "\n",
        "Pored toga, Naive Bayes koristi tzv. \"nultu uslovnu nezavisnost\" koja podrazumeva da svi atributi imaju jednak uticaj na klasifikaciju, nezavisno od postojanja drugih atributa. Ova pretpostavka, iako često nerealna, čini algoritam jednostavnim za implementaciju.\n",
        "\n",
        "Prvo smo instancirali Naive Bayes klasifikator koristeći GaussianNB(). Zatim smo koristili fit() metodu da bismo obučili klasifikator na trening podacima (X_train - ulazne karakteristike, y_train - odgovarajuće oznake klasa).\n",
        "\n",
        "Koristili smo unakrsnu validaciju (cross_val_score()) kako bismo procenili performanse klasifikatora na različitim delovima trening podataka. Vrednosti tačnosti su izračunate za svaki presek (fold) unakrsne validacije i sačuvane su u scores.\n",
        "\n",
        "Unakrsna validacija je tehnika koja se koristi za procenu performansi modela tako što se skup podataka deli na nekoliko manjih delova ili \"preseka\" (folds), a zatim se model trenira i testira na različitim kombinacijama ovih preseka.\n",
        "\n",
        "Konkretno, cross_val_score omogućava automatsku primenu unakrsne validacije na modelu kako bi se izračunala tačnost modela na različitim delovima skupa podataka. Ova funkcija uzima model, ulazne karakteristike, oznake klasa i broj preseka kao ulazne argumente, a zatim izračunava tačnost modela za svaki presek.\n",
        "\n",
        "Unakrsna validacija je korisna jer omogućava objektivniju procenu performansi modela, posebno kada imamo ograničen skup podataka. Kroz unakrsnu validaciju model se trenira i testira na različitim podskupovima, što pomaže u otkrivanju varijabilnosti performansi modela i identifikaciji problema kao što su preterano prilagođavanje (overfitting) ili neodgovarajuće generalizovanje.\n",
        "\n",
        "Nakon toga, uz pomoć funkcije np.mean(scores) izračunali smo prosečnu tačnost na osnovu rezultata unakrsne validacije.\n",
        "\n",
        "train_predictions = clf.predict(X_test): Koristili smo obučeni klasifikator da bismo napravili predviđanja na test podacima (X_test - ulazne karakteristike). Ove predikcije su sačuvane u train_predictions.\n",
        "\n",
        "I na samom kraju, računamo accuracy i log_loss.\n",
        "\n",
        "Accuracy nam daje informaciju o udelu tačno klasifikovanih instanci u odnosu na ukupan broj instanci. Veća tačnost ukazuje na bolje performanse modela.\n",
        "\n",
        "Gubitak logaritamske vrednosti (Log Loss) meri kvalitet verovatnoća predviđenih od strane modela. Niža vrednost gubitka ukazuje na bolje kalibrirane verovatnoće."
      ],
      "metadata": {
        "id": "PhqlVfhySN7q"
      }
    },
    {
      "cell_type": "code",
      "source": [
        "#Naive Bayes\n",
        "\n",
        "clf = GaussianNB().fit(X_train, y_train) # Kreiranje instance klasifikatora\n",
        "print ('ML Model: ', clf.__class__.__name__)\n",
        "\n",
        "# Cross validacija\n",
        "scores = cross_val_score(GaussianNB(), train.values, labels, cv=ss_split)\n",
        "print ('Mean Cross-validation scores: {}'.format(np.mean(scores)))\n",
        "\n",
        "train_predictions = clf.predict(X_test)\n",
        "acc = accuracy_score(y_test, train_predictions)\n",
        "print ('Accuracy: {:.4%}'.format(acc))\n",
        "\n",
        "train_predictions = clf.predict_proba(X_test)\n",
        "ll = log_loss(y_test, train_predictions)\n",
        "print ('Log Loss: {:.6}'.format(ll))"
      ],
      "metadata": {
        "colab": {
          "base_uri": "https://localhost:8080/"
        },
        "id": "E_itdKpCnh7m",
        "outputId": "0ab1c881-f810-468c-8f56-7d4fcb6973f9"
      },
      "execution_count": 13,
      "outputs": [
        {
          "output_type": "stream",
          "name": "stdout",
          "text": [
            "ML Model:  GaussianNB\n",
            "Mean Cross-validation scores: 0.5489898989898989\n",
            "Accuracy: 55.0505%\n",
            "Log Loss: 16.1755\n"
          ]
        }
      ]
    },
    {
      "cell_type": "code",
      "source": [
        "import seaborn as sns\n",
        "import matplotlib.pyplot as plt\n",
        "\n",
        "# Instanciranje  Gaussian Naive Bayes klasifikatora\n",
        "clf = GaussianNB()\n",
        "\n",
        "# Fitujemo klasifikator na trening podatke\n",
        "clf.fit(X_train, y_train)\n",
        "\n",
        "\n",
        "print('ML Model:', clf.__class__.__name__)\n",
        "\n",
        "# Cross-validacija\n",
        "scores = cross_val_score(GaussianNB(), train.values, labels, cv=ss_split)\n",
        "mean_scores = np.mean(scores)\n",
        "print('Mean Cross-validation skor: {:.4f}'.format(mean_scores))\n",
        "\n",
        "# Kreiranje predikcija na test setu\n",
        "test_predictions = clf.predict(X_test)\n",
        "\n",
        "# Računanje accuracy\n",
        "accuracy = accuracy_score(y_test, test_predictions)\n",
        "print('Accuracy: {:.4%}'.format(accuracy))\n",
        "\n",
        "\n",
        "sns.set(style=\"whitegrid\")\n",
        "\n",
        "\n",
        "plt.figure(figsize=(8, 6))\n",
        "\n",
        "# Setujemo paletu boja\n",
        "colors = sns.color_palette(\"Set2\")\n",
        "\n",
        "# Plotujemo\n",
        "sns.barplot(x=[\"Accuracy\"], y=[accuracy], palette=colors, label='Accuracy')\n",
        "\n",
        "# Dodavanje anotacija\n",
        "for i, v in enumerate([accuracy]):\n",
        "    plt.text(i, v + 0.02, '{:.2%}'.format(v), ha='center', va='bottom', fontweight='bold', color='black')\n",
        "\n",
        "\n",
        "plt.title('Performance Metrics')\n",
        "plt.xlabel('Metric')\n",
        "plt.ylabel('Score')\n",
        "\n",
        "# Setujemo limit y ose\n",
        "plt.ylim([0, 1])\n",
        "\n",
        "\n",
        "sns.despine()\n",
        "\n",
        "\n",
        "plt.show()\n",
        "\n"
      ],
      "metadata": {
        "colab": {
          "base_uri": "https://localhost:8080/",
          "height": 625
        },
        "id": "uYvFvhvqv4gl",
        "outputId": "2d3f4784-f08e-4751-8cc6-dd868438bbf5"
      },
      "execution_count": 14,
      "outputs": [
        {
          "output_type": "stream",
          "name": "stdout",
          "text": [
            "ML Model: GaussianNB\n",
            "Mean Cross-validation skor: 0.5490\n",
            "Accuracy: 55.0505%\n"
          ]
        },
        {
          "output_type": "display_data",
          "data": {
            "text/plain": [
              "<Figure size 800x600 with 1 Axes>"
            ],
            "image/png": "[encoded data removed]"
          },
          "metadata": {}
        }
      ]
    },
    {
      "cell_type": "markdown",
      "source": [
        "Logistička regresija je statistička metoda koja se koristi za predviđanje kategoričke zavisne promenljive na osnovu jedne ili više nezavisnih promenljivih. Na primer, može se koristiti za predviđanje da li je određeni e-mail spam ili ne-spam na osnovu različitih karakteristika e-maila.\n",
        "\n",
        "Princip rada ove metode je sledeći:\n",
        "\n",
        " Imamo skup podataka koji se sastoji od nizova uzoraka, gde svaki uzorak ima određene karakteristike (nezavisne promenljive) i pripadajuću kategoriju ili oznaku (zavisna promenljiva).  Logistička regresija prvo izračunava linearnu kombinaciju karakteristika svakog uzorka, gde se svaka karakteristika množi sa svojim odgovarajućim koeficijentom. Ova linearna kombinacija se može zapisati kao: z = b0 + b1x1 + b2x2 + ... + bn*xn, gde su b0, b1, b2, ..., bn koeficijenti regresije, a x1, x2, ..., xn karakteristike uzorka.\n",
        "\n",
        " Linearna kombinacija se zatim prosleđuje kroz logističku funkciju koja transformiše vrednost u opseg između 0 i 1. Logistička funkcija (sigmoidna funkcija) se može zapisati kao: p = 1 / (1 + exp(-z)), gde je p verovatnoća da uzorak pripada određenoj klasi.\n",
        "\n",
        " Nakon što su izračunate verovatnoće, postavlja se prag (najčešće 0.5) kako bi se donela konačna klasifikacija. Ako je verovatnoća veća od praga, uzorak se klasifikuje u jednu klasu, a ako je manja ili jednaka pragu, klasifikuje se u drugu klasu.\n",
        "\n",
        " Da bi se pronašli optimalni koeficijenti regresije (b0, b1, b2, ..., bn), koristi se postupak koji se naziva \"treniranje modela\". Ovo uključuje minimizaciju određene funkcije gubitka (kao što je negativna log-izglednost) korišćenjem metoda optimizacije poput metode najveće verodostojnosti ili gradijentnog spusta.\n",
        "\n",
        " Nakon što je model treniran, evaluiramo njegovu performansu koristeći metrike kao što su tačnost, preciznost, odziv, F1 mera itd. Ove metrike nam daju informacije o tome koliko dobro model klasifikuje nove, neviđene podatke.\n",
        "\n",
        " **Newton-CG** je jedna od metoda za rešavanje optimizacionog problema koji se javlja pri treniranju logističke regresije. Ova metoda koristi kombinaciju Newtonove metode i konjugovanih gradijenata kako bi pronašla minimum funkcije gubitka. U ovom slučaju, koristimo Newton-CG kao rešavač (solver) za logističku regresiju.\n",
        "\n",
        " **GridSearchCV** je tehnika koja se koristi za pretragu hiperparametara kako bi se pronašli najbolji parametri za model. Hiperparametri su parametri koji se postavljaju pre treniranja modela i ne mogu se naučiti tokom samog treninga. GridSearchCV prolazi kroz sve kombinacije parametara definisane u parametarskoj mreži (param_grid) i evaluira model sa svakom kombinacijom. Na kraju se bira kombinacija koja daje najbolje rezultate na osnovu zadate metrike evaluacije.\n",
        "\n",
        " **param_grid:** param_grid je rečnik (dictionary) koji sadrži kombinacije vrednosti hiperparametara koje će se testirati tokom pretrage po mreži. U našem slučaju, za parametre C i tol definišemo vrednosti koje želimo da testiramo. Na primer, za C testiramo vrednosti 1000 i 10000, a za tol testiramo vrednosti 0.000001 i 0.00001. Pretraga po mreži će izvršiti sve kombinacije ovih vrednosti i odabrati kombinaciju koja daje najbolje rezultate."
      ],
      "metadata": {
        "id": "-xZjH_pVGP32"
      }
    },
    {
      "cell_type": "code",
      "source": [
        "# Standardizacija trening podataka\n",
        "scaler = StandardScaler().fit(X_train)\n",
        "X_train_scaled = scaler.transform(X_train)\n",
        "\n",
        "#param_grid = {'C':[1, 10],\n",
        "#              'tol': [0.001, 0.0001]}\n",
        "param_grid = {'C': [ 1000, 10000],\n",
        "              'tol': [0.000001, 0.00001]}\n",
        "log_reg = LogisticRegression(solver='newton-cg', multi_class='multinomial')\n",
        "grid_search = GridSearchCV(log_reg, param_grid, scoring='neg_log_loss', refit='True', n_jobs=1, cv=ss_split)\n",
        "grid_search.fit(X_train_scaled, y_train)\n",
        "\n",
        "print ('Najbolji parametar: {}'.format(grid_search.best_params_))\n",
        "print ('\\nNajbolji estimator:\\n{}'.format(grid_search.best_estimator_))"
      ],
      "metadata": {
        "colab": {
          "base_uri": "https://localhost:8080/"
        },
        "id": "IDB9ToE1y0FO",
        "outputId": "15f45b15-dea7-4425-d8f4-7c81def0453e"
      },
      "execution_count": 15,
      "outputs": [
        {
          "output_type": "stream",
          "name": "stdout",
          "text": [
            "Najbolji parametar: {'C': 1000, 'tol': 1e-06}\n",
            "\n",
            "Najbolji estimator:\n",
            "LogisticRegression(C=1000, multi_class='multinomial', solver='newton-cg',\n",
            "                   tol=1e-06)\n"
          ]
        }
      ]
    },
    {
      "cell_type": "markdown",
      "source": [
        "U ovom delu koda vršimo evaluaciju modela logističke regresije koji je optimizovan prethodno izvršenom GridSearchCV metodom.\n",
        "\n",
        "Prvo se koristi StandardScaler objekat za standardizaciju testnog skupa podataka X_test. Ovde se koristi scaler koji je prethodno naučen na trening skupu kako bi se testni skup skalirao na isti način kao i trening skup. To je važno jer model očekuje da podaci budu skalirani na isti način.\n",
        "\n",
        " Skalirani testni skup X_test se dobija primenom transformacije skaliranja na originalne podatke.\n",
        "\n",
        " Nakon toga, vrši se predviđanje na skaliranim testnim podacima koristeći model koji je rezultat GridSearchCV optimizacije.\n",
        "\n",
        " Izračunava se tačnost (accuracy) modela upoređujući predviđene vrednosti (train_predictions) sa stvarnim vrednostima ciljne promenljive y_test. Tačnost predstavlja procenat tačno klasifikovanih uzoraka u odnosu na ukupan broj uzoraka."
      ],
      "metadata": {
        "id": "REl0aKkRHuWu"
      }
    },
    {
      "cell_type": "code",
      "source": [
        "scaler = StandardScaler().fit(X_test)\n",
        "X_test_scaled = scaler.transform(X_test)\n",
        "\n",
        "print ('ML Model: Logistička regresija')\n",
        "# Accuracy\n",
        "train_predictions = grid_search.predict(X_test_scaled)\n",
        "acc = accuracy_score(y_test, train_predictions)\n",
        "print ('Accuracy: {:.4%}'.format(acc))\n",
        "# Logloss\n",
        "train_predictions_p = grid_search.predict_proba(X_test_scaled)\n",
        "ll = log_loss(y_test, train_predictions_p)\n",
        "print ('Log Loss: {:.6}'.format(ll))"
      ],
      "metadata": {
        "colab": {
          "base_uri": "https://localhost:8080/"
        },
        "id": "-YEUo5ROzxYF",
        "outputId": "364339b6-3847-4fdf-dcae-2087c3ab85ec"
      },
      "execution_count": 16,
      "outputs": [
        {
          "output_type": "stream",
          "name": "stdout",
          "text": [
            "ML Model: Logistička regresija\n",
            "Accuracy: 98.9899%\n",
            "Log Loss: 0.0253898\n"
          ]
        }
      ]
    },
    {
      "cell_type": "markdown",
      "source": [
        "Na samom kraju našeg projekta, korišćenjem biblioteka za vizualizaciju seaborn i matplotlib vršimo prikaz performansi algoritma logističke regresije."
      ],
      "metadata": {
        "id": "nT5HHe9SIILh"
      }
    },
    {
      "cell_type": "code",
      "source": [
        "import seaborn as sns\n",
        "import matplotlib.pyplot as plt\n",
        "\n",
        "# Standardizacija testnih podataka\n",
        "scaler = StandardScaler().fit(X_test)\n",
        "X_test_scaled = scaler.transform(X_test)\n",
        "\n",
        "# Vršenje predikcije\n",
        "train_predictions = grid_search.predict(X_test_scaled)\n",
        "\n",
        "# Računanje accuracy-a\n",
        "accuracy = accuracy_score(y_test, train_predictions)\n",
        "\n",
        "\n",
        "sns.set(style=\"whitegrid\")\n",
        "\n",
        "\n",
        "plt.figure(figsize=(12, 6))\n",
        "\n",
        "\n",
        "colors = [\"#FF7F0E\"]  # Color\n",
        "\n",
        "\n",
        "sns.barplot(x=[\"Accuracy\"], y=[accuracy], palette=colors, label='Accuracy')\n",
        "\n",
        "\n",
        "\n",
        "plt.title('Logistic Regression - Accuracy')\n",
        "plt.xlabel('Metric')\n",
        "plt.ylabel('Score')\n",
        "\n",
        "\n",
        "plt.ylim([0, 1])\n",
        "\n",
        "\n",
        "sns.despine()\n",
        "\n",
        "\n",
        "plt.show()"
      ],
      "metadata": {
        "colab": {
          "base_uri": "https://localhost:8080/",
          "height": 573
        },
        "id": "n9MYHKLn0N_1",
        "outputId": "e0032fe9-0b28-41fc-abde-8ef82a7cf46b"
      },
      "execution_count": 17,
      "outputs": [
        {
          "output_type": "display_data",
          "data": {
            "text/plain": [
              "<Figure size 1200x600 with 1 Axes>"
            ],
            "image/png": "[encoded data removed]"
          },
          "metadata": {}
        }
      ]
    },
    {
      "cell_type": "markdown",
      "source": [
        "\n",
        "# **ZAKLJUČAK**\n",
        "\n",
        "\n",
        "\n",
        "Na osnovu tačnosti od 55%, možemo izvući sledeće zaključke:\n",
        "\n",
        "Algoritam tačno klasifikuje 55% instanci u testnom skupu.\n",
        "Preostalih 45% instanci su netačno klasifikovane ili pogrešno klasifikovane od strane algoritma.\n",
        "Tačnost od 55% ukazuje na to da je prediktivna sposobnost algoritma umerena, ali možda nije dovoljno precizna za određene primene.\n",
        "Kako bismo dalje analizirali šta se može dešavati u  algoritmu, bitno je uzeti u obzir i druge faktore kao što su konkretan skup podataka, raspodela klasa, kvalitet karakteristika i potencijalni izvori grešaka ili netačne klasifikacije. Dodatna analiza i dijagnostika bi bili neophodni kako bi se dobile dublje uvide u ponašanje i performanse algoritma.\n",
        "\n",
        "Možemo zaključiti da Gausov Naivni Bajes algoritam nije dobro obavio ovaj zadatak klasifikacije.\n",
        "\n",
        "Logistička regresija je pokazala izuzetne performanse kada je reč o klasifikaciji. Činjenica da je accuracy 98.98% nam ukazuje na to da je model tačno klasifikovao 98.98% instanci u testnom skupu. Ovo je veoma visok procenat tačno klasifikovanih uzoraka i sugeriše da je model veoma dobro naučio da razlikuje između različitih klasa.\n",
        "\n",
        "U ovom projektu smo primenili standardno skaliranje (StandardScaler) za obradu podataka, unakrsnu validaciju (cross-validation) za poboljšanje generalizacijskih performansi modela i grid pretragu (GridSearch) za pronalaženje optimalnih parametara. Kao rezultat, najbolju tačnost predikcije smo postigli sa modelom Logističke Regresije, koji je pokazao tačnost od oko 99%.\n",
        "\n",
        "\n",
        "# **REFERENCE**\n",
        "\n",
        "1. https://www.kaggle.com/\n",
        "\n",
        "2. https://github.com/\n",
        "\n",
        "3. https://scikit-learn.org/stable/modules/naive_bayes.html\n",
        "\n",
        "4. https://scikit-learn.org/stable/modules/generated/sklearn.preprocessing.StandardScaler.html\n",
        "\n",
        "5. https://www.analyticsvidhya.com/blog/2021/08/conceptual-understanding-of-logistic-regression-for-data-science-beginners/\n",
        "\n",
        "6. https://www.oreilly.com/library/view/python-data-science/9781491912126/\n",
        "\n"
      ],
      "metadata": {
        "id": "9sOK4GhcIWbt"
      }
    }
  ]
}